{
  "nbformat": 4,
  "nbformat_minor": 0,
  "metadata": {
    "colab": {
      "name": "Untitled16.ipynb",
      "provenance": [],
      "include_colab_link": true
    },
    "kernelspec": {
      "name": "python3",
      "display_name": "Python 3"
    },
    "language_info": {
      "name": "python"
    }
  },
  "cells": [
    {
      "cell_type": "markdown",
      "metadata": {
        "id": "view-in-github",
        "colab_type": "text"
      },
      "source": [
        "<a href=\"https://colab.research.google.com/github/eforcoding/Tugas/blob/main/Untitled16.ipynb\" target=\"_parent\"><img src=\"https://colab.research.google.com/assets/colab-badge.svg\" alt=\"Open In Colab\"/></a>"
      ]
    },
    {
      "cell_type": "code",
      "execution_count": null,
      "metadata": {
        "colab": {
          "base_uri": "https://localhost:8080/"
        },
        "id": "W4ityjxd16ZI",
        "outputId": "cf217d21-f937-4811-b55f-817d74b31cff"
      },
      "outputs": [
        {
          "output_type": "stream",
          "name": "stdout",
          "text": [
            "Nama saya Joko Hendra umur saya 25 tinggi saya 1.7m berat badan saya 72kg ukuran baju saya m\n"
          ]
        }
      ],
      "source": [
        "#1\n",
        "namad = \"Joko \"\n",
        "namab = \"Hendra\"\n",
        "umur = \"25\"\n",
        "tinggi = \"1.7\"\n",
        "beratbadan = \"72\"\n",
        "ukuranb = \"m\"\n",
        "statusp = \"Sudah menikah\"\n",
        "nama = namad + namab\n",
        "print(f\"Nama saya {nama} umur saya {umur} tinggi saya {tinggi}m berat badan saya {beratbadan}kg ukuran baju saya {ukuranb}\")"
      ]
    },
    {
      "cell_type": "code",
      "source": [
        "#2\n",
        "nama1 = \"Mohammed \"\n",
        "nama2 = \"Hammedy\"\n",
        "print(nama1 + nama2)\n",
        "nama1 = \"muhammad  \"\n",
        "nama2 = \"Hamdani\"\n",
        "print(nama1 + nama2)\n"
      ],
      "metadata": {
        "id": "oL5T9LP_3jka",
        "colab": {
          "base_uri": "https://localhost:8080/"
        },
        "outputId": "f3a40ac4-1655-4ca0-f568-ce05717a99f7"
      },
      "execution_count": null,
      "outputs": [
        {
          "output_type": "stream",
          "name": "stdout",
          "text": [
            "Mohammed Hammedy\n",
            "muhammad  Hamdani\n"
          ]
        }
      ]
    },
    {
      "cell_type": "code",
      "source": [
        "#3\n",
        "namaa = input(\"Masukkan nama depan :\")\n",
        "namac = input(\"Masukkan nama belakang :\")\n",
        "umur1 = input(\"Masukkan umur :\")\n",
        "tinggi1 = input(\"Masukkan tinggi (m):\")\n",
        "beratbada1 = input(\"Masukkan berat badan (kg) :\")\n",
        "status = input(\"Statu pernikahan (Sudah menikah/perjaka) :\")\n",
        "namag = namaa + namac\n",
        "print(f\"Nama saya {namag} umur saya {umur1} tinggi saya {tinggi1}m berat badan saya {beratbada1}kg status pernikahan  {status}\")"
      ],
      "metadata": {
        "colab": {
          "base_uri": "https://localhost:8080/"
        },
        "id": "eCxSFVMm4iGr",
        "outputId": "861b3436-a8d7-436b-9969-9115e9ec5175"
      },
      "execution_count": null,
      "outputs": [
        {
          "output_type": "stream",
          "name": "stdout",
          "text": [
            "Masukkan nama depan :asd\n",
            "Masukkan nama belakang :dsa\n",
            "Masukkan umur :23\n",
            "Masukkan tinggi (m):23\n",
            "Masukkan berat badan (kg) :23\n",
            "Statu pernikahan (Sudah menikah/perjaka) :43\n",
            "Nama saya asddsa umur saya 23 tinggi saya 23m berat badan saya 23kg status pernikahan  43\n"
          ]
        }
      ]
    },
    {
      "cell_type": "code",
      "source": [
        "#4\n"
      ],
      "metadata": {
        "id": "jb1w7JVm5Kr5"
      },
      "execution_count": null,
      "outputs": []
    },
    {
      "cell_type": "code",
      "source": [
        "#5\n",
        "lebar = int(input(\"Masukkan lebar tanah :\"))\n",
        "panjang = int(input(\"Masukkan panjang tanah :\"))\n",
        "luas = panjang + lebar\n",
        "hargat = 300000\n",
        "harga = hargat * luas\n",
        "print(f\"Luas tanah {luas} harga yang harus dibayar {harga}\")"
      ],
      "metadata": {
        "colab": {
          "base_uri": "https://localhost:8080/"
        },
        "id": "3oVVa0KZ59mT",
        "outputId": "3f5475a7-a12a-490d-8205-9d654b0edb9b"
      },
      "execution_count": null,
      "outputs": [
        {
          "output_type": "stream",
          "name": "stdout",
          "text": [
            "Masukkan lebar tanah :3\n",
            "Masukkan panjang tanah :2\n",
            "Luas tanah 5 harga yang harus dibayar1500000\n"
          ]
        }
      ]
    },
    {
      "cell_type": "code",
      "source": [
        "#6\n",
        "input1 = int(input(\"Masukkan nilai 1 :\"))\n",
        "input2 = int(input(\"Masukkan nilai 2 :\"))\n",
        "print(input1 + input2)\n",
        "print(input1 - input2)\n",
        "print(input1 / input2)\n",
        "print(input1 * input2)\n",
        "print(input1 % input2)"
      ],
      "metadata": {
        "colab": {
          "base_uri": "https://localhost:8080/"
        },
        "id": "NYFLwx756xkZ",
        "outputId": "af9b0d59-7daa-4821-b756-e076118a8564"
      },
      "execution_count": null,
      "outputs": [
        {
          "output_type": "stream",
          "name": "stdout",
          "text": [
            "Masukkan nilai 1 :2\n",
            "Masukkan nilai 2 :4\n",
            "6\n",
            "-2\n",
            "0.5\n",
            "8\n",
            "2\n"
          ]
        }
      ]
    },
    {
      "cell_type": "code",
      "source": [
        "7#\n",
        "user = input(\"Masukkan user anda : \")\n",
        "password = input(\"Masukkan password anda :\")\n",
        "if user == \"Joko\" and password == \"1234\":\n",
        "  print(\"Login sukses\")\n",
        "else:\n",
        "  print(\"Login gagal\")"
      ],
      "metadata": {
        "id": "AFzEfJYp7_sx",
        "colab": {
          "base_uri": "https://localhost:8080/"
        },
        "outputId": "2c203819-948c-4564-f0e9-7af3ef136989"
      },
      "execution_count": null,
      "outputs": [
        {
          "output_type": "stream",
          "name": "stdout",
          "text": [
            "Masukkan user anda : Joko\n",
            "Masukkan password anda :1234\n",
            "Login sukses\n"
          ]
        }
      ]
    },
    {
      "cell_type": "code",
      "source": [
        "#8\n",
        "gaji = int(input(\"Masukkan gaji bulanan :\"))\n",
        "pajak = 2.5/100\n",
        "gajitahun = gaji*12\n",
        "gaji1 = gajitahun*pajak \n",
        "print(f\"Gaji perbulan {gaji} gaji pertahun {gajitahun} pajak yang harus dibayar pertahun {gaji1} \")\\"
      ],
      "metadata": {
        "id": "PiREc3Me9mna",
        "colab": {
          "base_uri": "https://localhost:8080/"
        },
        "outputId": "3b5bec05-d23e-426b-fecf-2578904b551d"
      },
      "execution_count": null,
      "outputs": [
        {
          "output_type": "stream",
          "name": "stdout",
          "text": [
            "Masukkan gaji bulanan :100\n",
            "Gaji perbulan 100 gaji pertahun 1200 pajak yang harus dibayar pertahun 30.0 \n"
          ]
        }
      ]
    },
    {
      "cell_type": "code",
      "source": [
        "#9\n",
        "for k in range(0, 101, 2):\n",
        "  if k%3 != 0:\n",
        "    print(k)"
      ],
      "metadata": {
        "id": "Opg-wvcGCHs6"
      },
      "execution_count": null,
      "outputs": []
    },
    {
      "cell_type": "code",
      "source": [
        "#10\n",
        "for n in range(0, 101, 2):\n",
        "  if n%5 == 0:\n",
        "    print(n)"
      ],
      "metadata": {
        "id": "03FjRQmvyXu5"
      },
      "execution_count": null,
      "outputs": []
    }
  ]
}