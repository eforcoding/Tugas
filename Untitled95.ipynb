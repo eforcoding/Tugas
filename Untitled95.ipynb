{
  "nbformat": 4,
  "nbformat_minor": 0,
  "metadata": {
    "colab": {
      "name": "Untitled95.ipynb",
      "provenance": [],
      "authorship_tag": "ABX9TyP2NNfWUnBIq6D1wtESGdcd",
      "include_colab_link": true
    },
    "kernelspec": {
      "name": "python3",
      "display_name": "Python 3"
    },
    "language_info": {
      "name": "python"
    }
  },
  "cells": [
    {
      "cell_type": "markdown",
      "metadata": {
        "id": "view-in-github",
        "colab_type": "text"
      },
      "source": [
        "<a href=\"https://colab.research.google.com/github/eforcoding/Tugas/blob/main/Untitled95.ipynb\" target=\"_parent\"><img src=\"https://colab.research.google.com/assets/colab-badge.svg\" alt=\"Open In Colab\"/></a>"
      ]
    },
    {
      "cell_type": "code",
      "source": [
        "\n",
        "menu_item = 0\n",
        "barang = []\n",
        "while menu_item != 9:\n",
        "  print('''---------------------------\n",
        "  1. menampilkan barang\n",
        "  2. menambah barang\n",
        "  3. menghapus nama barang\n",
        "  4. mengedit nama barang\n",
        "  5. cari barang\n",
        "  6. cari index  ''')\n",
        "  menu_item = int(input(\"pilih menu:\"))\n",
        "  if menu_item == 1:\n",
        "    current = 0\n",
        "    if len (barang) > 0:\n",
        "      while current < len (barang):\n",
        "        print (current, \".\", barang[current])\n",
        "        current = current + 1\n",
        "    else:\n",
        "      print(\"list kosong\")\n",
        "  elif menu_item == 2:\n",
        "    nama = input(\"masukkan nama barang : \")\n",
        "    barang.append (nama)\n",
        "  elif menu_item == 3:\n",
        "    del_nama = input(\"masukkan barang yang dihapus :\")\n",
        "    if del_nama in barang:\n",
        "      item_number = barang.index(del_nama)\n",
        "      del barang [item_number]\n",
        "    else:\n",
        "      print(del_nama,\"tidak ditemukan\")\n",
        "  elif menu_item == 4:\n",
        "    old_name = input(\"nama apa yang diubah: \")\n",
        "\n",
        "    if old_name in barang:\n",
        "      item_number = barang.index(old_name)\n",
        "      new_name = input(\"Nama baru: \")\n",
        "      barang[item_number] = new_name\n",
        "    else:\n",
        "      print(old_name, \"tidak ditemukan\")\n",
        "  elif menu_item == 5:\n",
        "    cari = input(\"masukkan nama barang yang dicari: \")\n",
        "    if cari in barang:\n",
        "      print(\"barang suda ada dalam daftar\")\n",
        "    else:\n",
        "      print(\"barang tidak ditemukan \")\n",
        "  elif menu_item == 6:\n",
        "    cari = input(\"masukkan barang tertentu yang dicari\")\n",
        "    if cari in barang:\n",
        "      print(barang.index(cari))\n",
        "    else:\n",
        "      print(\"barang tidak ditemukan\")\n",
        "\n",
        "print(\"terima kasih\")"
      ],
      "metadata": {
        "colab": {
          "base_uri": "https://localhost:8080/"
        },
        "id": "rlfGL_olJXVa",
        "outputId": "e3aaba53-e471-4db9-dcfb-4ba4d74c191f"
      },
      "execution_count": null,
      "outputs": [
        {
          "output_type": "stream",
          "name": "stdout",
          "text": [
            "---------------------------\n",
            "  1. menampilkan barang\n",
            "  2. menambah barang\n",
            "  3. menghapus nama barang\n",
            "  4. mengedit nama barang\n",
            "  5. cari barang\n",
            "  6. cari index  \n"
          ]
        }
      ]
    }
  ]
}