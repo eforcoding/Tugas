{
  "nbformat": 4,
  "nbformat_minor": 0,
  "metadata": {
    "colab": {
      "name": "Untitled97.ipynb",
      "provenance": [],
      "authorship_tag": "ABX9TyOtsUQ1coazcP8Fl2LA7KaU",
      "include_colab_link": true
    },
    "kernelspec": {
      "name": "python3",
      "display_name": "Python 3"
    },
    "language_info": {
      "name": "python"
    }
  },
  "cells": [
    {
      "cell_type": "markdown",
      "metadata": {
        "id": "view-in-github",
        "colab_type": "text"
      },
      "source": [
        "<a href=\"https://colab.research.google.com/github/eforcoding/Tugas/blob/main/Untitled97.ipynb\" target=\"_parent\"><img src=\"https://colab.research.google.com/assets/colab-badge.svg\" alt=\"Open In Colab\"/></a>"
      ]
    },
    {
      "cell_type": "code",
      "execution_count": null,
      "metadata": {
        "colab": {
          "base_uri": "https://localhost:8080/"
        },
        "id": "-6ecs2RQy_Cb",
        "outputId": "84a2edc2-6c74-47b6-8de8-c69913ec0bde"
      },
      "outputs": [
        {
          "output_type": "stream",
          "name": "stdout",
          "text": [
            "\n",
            "  1. menambah\n",
            "  2. menghapus\n",
            "  3. menampilkan elemen akhir\n",
            "  4. mengecek zize\n",
            "  0. mengecek apakah stack kosong\n",
            "masukkan menu: 1\n",
            "masukkan data yang ingin ditambahkan: tas\n",
            "data yang telah ditambahkan :  tas\n",
            "stack saat ini :  ['tas']\n",
            "\n",
            "  1. menambah\n",
            "  2. menghapus\n",
            "  3. menampilkan elemen akhir\n",
            "  4. mengecek zize\n",
            "  0. mengecek apakah stack kosong\n",
            "masukkan menu: 2\n",
            "masukkan data yang ingin dihapus: tas\n",
            "data yang baru dihapus:  tas\n",
            "stack saat ini : []\n",
            "\n",
            "  1. menambah\n",
            "  2. menghapus\n",
            "  3. menampilkan elemen akhir\n",
            "  4. mengecek zize\n",
            "  0. mengecek apakah stack kosong\n",
            "masukkan menu: 3\n",
            "tidak terbaca\n",
            "\n",
            "  1. menambah\n",
            "  2. menghapus\n",
            "  3. menampilkan elemen akhir\n",
            "  4. mengecek zize\n",
            "  0. mengecek apakah stack kosong\n",
            "masukkan menu: 4\n",
            "panjang ukuran stack :  0\n",
            "\n",
            "  1. menambah\n",
            "  2. menghapus\n",
            "  3. menampilkan elemen akhir\n",
            "  4. mengecek zize\n",
            "  0. mengecek apakah stack kosong\n",
            "masukkan menu: 0\n",
            "Benar\n",
            "\n",
            "  1. menambah\n",
            "  2. menghapus\n",
            "  3. menampilkan elemen akhir\n",
            "  4. mengecek zize\n",
            "  0. mengecek apakah stack kosong\n"
          ]
        }
      ],
      "source": [
        "menu_item = 0\n",
        "stack = []\n",
        "while menu_item != 9:\n",
        "  print('''\n",
        "  1. menambah\n",
        "  2. menghapus\n",
        "  3. menampilkan elemen akhir\n",
        "  4. mengecek zize\n",
        "  0. mengecek apakah stack kosong''')\n",
        "  menu_item = int(input(\"masukkan menu: \"))\n",
        "  if menu_item == 1:\n",
        "    tambahkan = input(\"masukkan data yang ingin ditambahkan: \")\n",
        "    stack.append(tambahkan)\n",
        "    print(\"data yang telah ditambahkan : \", tambahkan)\n",
        "    print(\"stack saat ini : \", stack)\n",
        "  elif menu_item == 2:\n",
        "    hapus = input(\"masukkan data yang ingin dihapus: \")\n",
        "    stack.pop()\n",
        "    print(\"data yang baru dihapus: \",hapus)\n",
        "    print(\"stack saat ini :\",stack)\n",
        "  elif menu_item == 3:\n",
        "    top = len(stack) - 1\n",
        "    if top < 0:\n",
        "      print(\"tidak terbaca\")\n",
        "    else:\n",
        "      print(\"elemen akhirnya : \", stack[top])\n",
        "  elif menu_item == 4:\n",
        "    print(\"panjang ukuran stack : \", len(stack))\n",
        "  elif len(stack) == 0:\n",
        "    print(\"Benar\")\n",
        "  else:\n",
        "    print(\"stack berisi\")\n",
        "      "
      ]
    }
  ]
}