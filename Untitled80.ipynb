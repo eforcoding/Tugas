{
  "nbformat": 4,
  "nbformat_minor": 0,
  "metadata": {
    "colab": {
      "name": "Untitled80.ipynb",
      "provenance": [],
      "toc_visible": true,
      "authorship_tag": "ABX9TyNqZpng0NfMJskF/gPGOyPg",
      "include_colab_link": true
    },
    "kernelspec": {
      "name": "python3",
      "display_name": "Python 3"
    },
    "language_info": {
      "name": "python"
    }
  },
  "cells": [
    {
      "cell_type": "markdown",
      "metadata": {
        "id": "view-in-github",
        "colab_type": "text"
      },
      "source": [
        "<a href=\"https://colab.research.google.com/github/eforcoding/Tugas/blob/main/Untitled80.ipynb\" target=\"_parent\"><img src=\"https://colab.research.google.com/assets/colab-badge.svg\" alt=\"Open In Colab\"/></a>"
      ]
    },
    {
      "cell_type": "code",
      "execution_count": 1,
      "metadata": {
        "colab": {
          "base_uri": "https://localhost:8080/"
        },
        "id": "3hEtj3L7xI4c",
        "outputId": "c49c93bf-d6b8-4bb4-ae66-5f7589033e80"
      },
      "outputs": [
        {
          "output_type": "stream",
          "name": "stdout",
          "text": [
            "apel\n",
            "pisang\n",
            "ceri\n",
            "['apel', 'durian', 'ceri']\n",
            "['durian', 'ceri']\n",
            "['durian', 'ceri', 'mangga']\n",
            "kerbau\n",
            "kambing\n",
            "gajah\n",
            "sapi\n",
            "['kerbau', 'kambing', 'gajah', 'sapi']\n",
            "['kerbau', 'meja', 'gajah', 'sapi']\n",
            "['kerbau', 'gajah', 'sapi']\n",
            "{'kerbau', 'gajah', 'sapi'}\n",
            "{'kerbau', 'efor', 'gajah', 'sapi'}\n",
            "a\n",
            "b\n",
            "c\n",
            "d\n",
            "['a', 'b', 'c', 'd']\n",
            "['b', 'b', 'c', 'd']\n",
            "['b', 'b', 'd']\n",
            "['b', 'b', 'd', 'e']\n",
            "('Nama', 'efor')\n",
            "('alamat', 'minanga')\n",
            "('umur', '18')\n",
            "{'Nama': 'asep', 'alamat': 'minanga', 'umur': '18'}\n",
            "{'alamat': 'minanga', 'umur': '18'}\n",
            "{'alamat': 'minanga', 'umur': '18', 'pekerjaan': 'Mahasiswa'}\n"
          ]
        }
      ],
      "source": [
        "#CONTOH LIST\n",
        "listbuah = [\"apel\",\"pisang\",\"ceri\"]\n",
        "\n",
        "for i in listbuah:\n",
        "  print(i)\n",
        "\n",
        "listbuah[1] = 'durian'\n",
        "print(listbuah)\n",
        "\n",
        "listbuah.remove(\"apel\")\n",
        "print(listbuah)\n",
        "\n",
        "listbuah.append(\"mangga\")\n",
        "print(listbuah)\n",
        "\n",
        "#CONTOH SET\n",
        "my_set = {'sapi','kerbau','kambing','gajah'}\n",
        "\n",
        "for a in my_set:\n",
        "  print(a)\n",
        "\n",
        "my_set = list(my_set)\n",
        "print(my_set)\n",
        "\n",
        "my_set[1] = \"meja\"\n",
        "print(my_set)\n",
        "\n",
        "my_set.remove('meja')\n",
        "print(my_set)\n",
        "\n",
        "my_set = set(my_set)\n",
        "print(my_set)\n",
        "\n",
        "\n",
        "my_set.add ('efor')\n",
        "print(my_set)\n",
        "\n",
        "#CONTOH TUPLE\n",
        "\n",
        "huruf = ('a','b','c','d')\n",
        "for i in huruf:\n",
        "  print(i)\n",
        "\n",
        "huruf = list(huruf)\n",
        "print(huruf)\n",
        "\n",
        "huruf [0] = 'b'\n",
        "print(huruf)\n",
        "\n",
        "huruf.remove('c')\n",
        "print(huruf)\n",
        "\n",
        "huruf.append('e')\n",
        "print(huruf)\n",
        "\n",
        "\n",
        "\n",
        "\n",
        "#DICTIONARY\n",
        "dictionary = {\"Nama\":\"efor\",\"alamat\":\"minanga\",\"umur\":\"18\"}\n",
        "\n",
        "for i in dictionary.items():\n",
        "  print(i)\n",
        "\n",
        "dictionary.update({\"Nama\" : \"asep\"})\n",
        "print(dictionary)\n",
        "\n",
        "dictionary.pop('Nama')\n",
        "print(dictionary)\n",
        "\n",
        "dictionary ['pekerjaan'] = 'Mahasiswa'\n",
        "print(dictionary)\n",
        "\n",
        "\n"
      ]
    }
  ]
}