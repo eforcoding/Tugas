{
  "nbformat": 4,
  "nbformat_minor": 0,
  "metadata": {
    "colab": {
      "name": "Untitled97.ipynb",
      "provenance": [],
      "authorship_tag": "ABX9TyOBHT6fTxL75apVnr7jrt9a",
      "include_colab_link": true
    },
    "kernelspec": {
      "name": "python3",
      "display_name": "Python 3"
    },
    "language_info": {
      "name": "python"
    }
  },
  "cells": [
    {
      "cell_type": "markdown",
      "metadata": {
        "id": "view-in-github",
        "colab_type": "text"
      },
      "source": [
        "<a href=\"https://colab.research.google.com/github/eforcoding/Tugas/blob/main/Untitled97.ipynb\" target=\"_parent\"><img src=\"https://colab.research.google.com/assets/colab-badge.svg\" alt=\"Open In Colab\"/></a>"
      ]
    },
    {
      "cell_type": "code",
      "execution_count": null,
      "metadata": {
        "colab": {
          "base_uri": "https://localhost:8080/"
        },
        "id": "-6ecs2RQy_Cb",
        "outputId": "1f62915b-7f12-49bc-f0df-bbc6f9643f5d"
      },
      "outputs": [
        {
          "output_type": "stream",
          "name": "stdout",
          "text": [
            "masukkan maksimal judul anime: 3\n",
            "\n",
            "  a.enqueue > menambah judul baru\n",
            "  b. dequeue > menghapus judul\n",
            "  c. Full > mengecek judul anime apakah penuh\n",
            "  d. size > melihat ukuran judul\n",
            "  e. stop\n",
            "masukkan menu pilihan: Naruto\n",
            "\n",
            "  a.enqueue > menambah judul baru\n",
            "  b. dequeue > menghapus judul\n",
            "  c. Full > mengecek judul anime apakah penuh\n",
            "  d. size > melihat ukuran judul\n",
            "  e. stop\n",
            "masukkan menu pilihan: b\n",
            "judul anime kosong\n",
            "\n",
            "  a.enqueue > menambah judul baru\n",
            "  b. dequeue > menghapus judul\n",
            "  c. Full > mengecek judul anime apakah penuh\n",
            "  d. size > melihat ukuran judul\n",
            "  e. stop\n",
            "masukkan menu pilihan: c\n",
            "Judlu belum terisi penuh\n",
            "\n",
            "  a.enqueue > menambah judul baru\n",
            "  b. dequeue > menghapus judul\n",
            "  c. Full > mengecek judul anime apakah penuh\n",
            "  d. size > melihat ukuran judul\n",
            "  e. stop\n",
            "masukkan menu pilihan: d\n",
            "Judul saat ini terisi:  0 \n",
            " maksimal judul :  3\n",
            "\n",
            "  a.enqueue > menambah judul baru\n",
            "  b. dequeue > menghapus judul\n",
            "  c. Full > mengecek judul anime apakah penuh\n",
            "  d. size > melihat ukuran judul\n",
            "  e. stop\n",
            "masukkan menu pilihan: e\n",
            "\n",
            "  a.enqueue > menambah judul baru\n",
            "  b. dequeue > menghapus judul\n",
            "  c. Full > mengecek judul anime apakah penuh\n",
            "  d. size > melihat ukuran judul\n",
            "  e. stop\n"
          ]
        }
      ],
      "source": [
        "judul_anime = []\n",
        "maksimal_judul_anime = int(input(\"masukkan maksimal judul anime: \"))\n",
        "def isFull():\n",
        "  if len(judul_anime) == maksimal_judul_anime:\n",
        "    print(\"anime penuh\")\n",
        "    return True\n",
        "  return False\n",
        "\n",
        "def enqueue():\n",
        "  if isFull() == False:\n",
        "    d = input(\"tambahkan judul baru: \")\n",
        "    judul_anime.append(d)\n",
        "    print(\"judul yang telah ditambahkan : \", d)\n",
        "    \n",
        "def isEmpty():\n",
        "  if len(judul_anime) == 0:\n",
        "    print(\"judul anime kosong\")\n",
        "    return True\n",
        "  return False\n",
        "\n",
        "def dequeue():\n",
        "  if isEmpty() == False:\n",
        "    print(judul_anime.pop(0),\"di hapus\")\n",
        "\n",
        "\n",
        "menu = 0\n",
        "while menu !=5:\n",
        "  print('''\n",
        "  a.enqueue > menambah judul baru\n",
        "  b. dequeue > menghapus judul\n",
        "  c. Full > mengecek judul anime apakah penuh\n",
        "  d. size > melihat ukuran judul\n",
        "  e. stop''' )\n",
        "\n",
        "  menu = input(\"masukkan menu pilihan: \")\n",
        "\n",
        "  if menu == 'a':\n",
        "    enqueue()\n",
        "  elif menu == 'b':\n",
        "    dequeue()\n",
        "  elif menu == 'c':\n",
        "    if isFull() == False:\n",
        "      print(\"Judlu belum terisi penuh\")\n",
        "  elif menu == 'd':\n",
        "    print(\"Judul saat ini terisi: \",len(judul_anime),\"\\n maksimal judul : \",maksimal_judul_anime)\n"
      ]
    }
  ]
}