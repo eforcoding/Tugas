{
  "nbformat": 4,
  "nbformat_minor": 0,
  "metadata": {
    "colab": {
      "name": "Untitled102.ipynb",
      "provenance": [],
      "authorship_tag": "ABX9TyPx8WPSI5C+jt/GdSxxwp3j",
      "include_colab_link": true
    },
    "kernelspec": {
      "name": "python3",
      "display_name": "Python 3"
    },
    "language_info": {
      "name": "python"
    }
  },
  "cells": [
    {
      "cell_type": "markdown",
      "metadata": {
        "id": "view-in-github",
        "colab_type": "text"
      },
      "source": [
        "<a href=\"https://colab.research.google.com/github/eforcoding/Tugas/blob/main/Untitled102.ipynb\" target=\"_parent\"><img src=\"https://colab.research.google.com/assets/colab-badge.svg\" alt=\"Open In Colab\"/></a>"
      ]
    },
    {
      "cell_type": "code",
      "execution_count": null,
      "metadata": {
        "colab": {
          "base_uri": "https://localhost:8080/"
        },
        "id": "MCNCJLy71-FP",
        "outputId": "2da1f570-cff0-48f4-d9d5-bf98927a1f60"
      },
      "outputs": [
        {
          "output_type": "stream",
          "name": "stdout",
          "text": [
            "pilih perintah yang ingin dijalankan\n",
            "  1. push\n",
            "  2. pop\n",
            "  3. top\n",
            "  4. empty\n",
            "  5. size\n",
            "masukkan pilihan: 1\n",
            "masukkan tumpukan yang ingin ditambahkan: baju\n",
            "Tumpukan baru yang ditambahkan:  baju\n",
            "pilih perintah yang ingin dijalankan\n",
            "  1. push\n",
            "  2. pop\n",
            "  3. top\n",
            "  4. empty\n",
            "  5. size\n",
            "masukkan pilihan: 3\n",
            "baju\n",
            "pilih perintah yang ingin dijalankan\n",
            "  1. push\n",
            "  2. pop\n",
            "  3. top\n",
            "  4. empty\n",
            "  5. size\n",
            "masukkan pilihan: 4\n",
            "Salah\n",
            "pilih perintah yang ingin dijalankan\n",
            "  1. push\n",
            "  2. pop\n",
            "  3. top\n",
            "  4. empty\n",
            "  5. size\n",
            "masukkan pilihan: 5\n",
            "1\n",
            "pilih perintah yang ingin dijalankan\n",
            "  1. push\n",
            "  2. pop\n",
            "  3. top\n",
            "  4. empty\n",
            "  5. size\n",
            "masukkan pilihan: 2\n",
            "Tumpukan yang baru saja kamu dihapus : baju\n",
            "pilih perintah yang ingin dijalankan\n",
            "  1. push\n",
            "  2. pop\n",
            "  3. top\n",
            "  4. empty\n",
            "  5. size\n"
          ]
        }
      ],
      "source": [
        "tumpukan = []\n",
        "def push():\n",
        "  a = input(\"masukkan tumpukan yang ingin ditambahkan: \")\n",
        "  tumpukan.append(a)\n",
        "  print(\"Tumpukan baru yang ditambahkan: \",a)\n",
        "\n",
        "def pop():\n",
        " print(\"Tumpukan yang baru saja kamu dihapus :\",tumpukan.pop())\n",
        "\n",
        "def top():\n",
        "  top=len(tumpukan) -1\n",
        "  if top < 0:\n",
        "    print(\"tidak terdefinisi\")\n",
        "  else:\n",
        "    print(tumpukan[top])\n",
        "\n",
        "def isempty():\n",
        "  if len(tumpukan) == 0:\n",
        "    print(\"Benar\")\n",
        "  else:\n",
        "    print(\"Salah\")\n",
        "\n",
        "def size():\n",
        "  print(len(tumpukan))\n",
        "\n",
        "while True:\n",
        "  print ('''pilih perintah yang ingin dijalankan\n",
        "  1. push\n",
        "  2. pop\n",
        "  3. top\n",
        "  4. empty\n",
        "  5. size''')\n",
        "  pilihan = int(input(\"masukkan pilihan: \"))\n",
        "  if pilihan == 1:\n",
        "    push()\n",
        "  if pilihan == 2:\n",
        "    pop()\n",
        "  if pilihan == 3:\n",
        "    top()\n",
        "  if pilihan == 4:\n",
        "    isempty()\n",
        "  if pilihan == 5:\n",
        "    size()\n",
        "\n",
        "  "
      ]
    }
  ]
}