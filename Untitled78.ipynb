{
  "nbformat": 4,
  "nbformat_minor": 0,
  "metadata": {
    "colab": {
      "name": "Untitled78.ipynb",
      "provenance": [],
      "authorship_tag": "ABX9TyNpG61X0zskKvsLqag0HY9P",
      "include_colab_link": true
    },
    "kernelspec": {
      "name": "python3",
      "display_name": "Python 3"
    },
    "language_info": {
      "name": "python"
    }
  },
  "cells": [
    {
      "cell_type": "markdown",
      "metadata": {
        "id": "view-in-github",
        "colab_type": "text"
      },
      "source": [
        "<a href=\"https://colab.research.google.com/github/eforcoding/Tugas/blob/main/Untitled78.ipynb\" target=\"_parent\"><img src=\"https://colab.research.google.com/assets/colab-badge.svg\" alt=\"Open In Colab\"/></a>"
      ]
    },
    {
      "cell_type": "code",
      "execution_count": null,
      "metadata": {
        "colab": {
          "base_uri": "https://localhost:8080/"
        },
        "id": "HsnffBPnp3id",
        "outputId": "5101c682-d03c-48e3-ad28-ce734bcbb2a5"
      },
      "outputs": [
        {
          "output_type": "stream",
          "name": "stdout",
          "text": [
            "ayam\n",
            "{'hijau', 'kuning', 'ungu', 'merah'}\n",
            "mangga\n",
            "apel\n"
          ]
        }
      ],
      "source": [
        "#LIST\n",
        "hewan=[\"anjing\",\"kucing\",\"ayam\",\"kelinci\"]\n",
        "print(hewan[2])\n",
        "#SET\n",
        "warna={'merah','kuning','hijau','ungu'}\n",
        "print(warna)\n",
        "#TUPLE\n",
        "tuple=('mangga','apel')\n",
        "for a in tuple:\n",
        "  print(a)\n",
        "#DICTIONARY"
      ]
    }
  ]
}