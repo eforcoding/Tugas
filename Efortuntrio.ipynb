{
  "nbformat": 4,
  "nbformat_minor": 0,
  "metadata": {
    "colab": {
      "name": "Untitled73.ipynb",
      "provenance": [],
      "authorship_tag": "ABX9TyOzIL3U25PPDOyIsTVGR+HO",
      "include_colab_link": true
    },
    "kernelspec": {
      "name": "python3",
      "display_name": "Python 3"
    },
    "language_info": {
      "name": "python"
    }
  },
  "cells": [
    {
      "cell_type": "markdown",
      "metadata": {
        "id": "view-in-github",
        "colab_type": "text"
      },
      "source": [
        "<a href=\"https://colab.research.google.com/github/eforcoding/Tugas/blob/main/Efortuntrio.ipynb\" target=\"_parent\"><img src=\"https://colab.research.google.com/assets/colab-badge.svg\" alt=\"Open In Colab\"/></a>"
      ]
    },
    {
      "cell_type": "code",
      "execution_count": null,
      "metadata": {
        "id": "-mi0iWpTFkmm",
        "colab": {
          "base_uri": "https://localhost:8080/"
        },
        "outputId": "461babed-0465-4090-e12c-90db512d7bee"
      },
      "outputs": [
        {
          "output_type": "stream",
          "name": "stdout",
          "text": [
            "masukkan angka pertama:5\n",
            "masukkan angka kedua:4\n",
            "pilih operasi aritmatika yang akan digunakan\n",
            "a. perkalian\n",
            "b. penjumblahan\n",
            "c. pembagian\n",
            "d. pengurangan\n",
            "masukkan operasi yang digunakan a\n",
            "hasil operasi diatas adalah 20\n"
          ]
        }
      ],
      "source": [
        "\n",
        "\n",
        "#KALKULATOR SEDERHANA\n",
        "\n",
        "#KALKULATOR SEDERHANA\n",
        "\n",
        "angka1 = int(input(\"masukkan angka pertama:\"))\n",
        "angka2 = int(input(\"masukkan angka kedua:\"))\n",
        "\n",
        "print('''pilih operasi aritmatika yang akan digunakan\n",
        "a. perkalian\n",
        "b. penjumblahan\n",
        "c. pembagian\n",
        "d. pengurangan''')\n",
        "\n",
        "operasi = input(\"masukkan operasi yang digunakan \")\n",
        "\n",
        "if operasi == 'a':\n",
        "  hasil = angka1 * angka2\n",
        "elif operasi == 'b':\n",
        "  hasil = angka1 + angka2\n",
        "elif operasi == 'c':\n",
        "  hasil = angka1 / angka2\n",
        "elif operasi == 'd':\n",
        "  hasil = angka1 - angka2\n",
        "else:\n",
        "  print(\"hasil tidak ditemukan\")\n",
        "\n",
        "print(\"hasil operasi diatas adalah {}\".format(hasil))"
      ]
    }
  ]
}